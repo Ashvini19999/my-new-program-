{
 "cells": [
  {
   "cell_type": "markdown",
   "id": "a4c38dca",
   "metadata": {},
   "source": [
    "### Data Types"
   ]
  },
  {
   "cell_type": "code",
   "execution_count": 2,
   "id": "3bc58f5c",
   "metadata": {},
   "outputs": [
    {
     "data": {
      "text/plain": [
       "int"
      ]
     },
     "execution_count": 2,
     "metadata": {},
     "output_type": "execute_result"
    }
   ],
   "source": [
    "X=5\n",
    "type(X)"
   ]
  },
  {
   "cell_type": "code",
   "execution_count": 3,
   "id": "26154b2a",
   "metadata": {},
   "outputs": [
    {
     "data": {
      "text/plain": [
       "float"
      ]
     },
     "execution_count": 3,
     "metadata": {},
     "output_type": "execute_result"
    }
   ],
   "source": [
    "X=1.7\n",
    "type(X)"
   ]
  },
  {
   "cell_type": "code",
   "execution_count": 4,
   "id": "5f7749b4",
   "metadata": {},
   "outputs": [
    {
     "data": {
      "text/plain": [
       "str"
      ]
     },
     "execution_count": 4,
     "metadata": {},
     "output_type": "execute_result"
    }
   ],
   "source": [
    "name=\"ashvini\"\n",
    "type(name)"
   ]
  },
  {
   "cell_type": "code",
   "execution_count": 5,
   "id": "22d51782",
   "metadata": {},
   "outputs": [
    {
     "data": {
      "text/plain": [
       "bool"
      ]
     },
     "execution_count": 5,
     "metadata": {},
     "output_type": "execute_result"
    }
   ],
   "source": [
    "z= True\n",
    "type(z)"
   ]
  },
  {
   "cell_type": "markdown",
   "id": "32e8acd9",
   "metadata": {},
   "source": [
    "#### int->integer(Number without decimal point)\n",
    "#### float-> decimal point\n",
    "#### str-> string(text data type)\n",
    "#### Bool->Boolean(True/False)"
   ]
  },
  {
   "cell_type": "code",
   "execution_count": null,
   "id": "1a3e368e",
   "metadata": {},
   "outputs": [],
   "source": []
  }
 ],
 "metadata": {
  "kernelspec": {
   "display_name": "Python 3 (ipykernel)",
   "language": "python",
   "name": "python3"
  },
  "language_info": {
   "codemirror_mode": {
    "name": "ipython",
    "version": 3
   },
   "file_extension": ".py",
   "mimetype": "text/x-python",
   "name": "python",
   "nbconvert_exporter": "python",
   "pygments_lexer": "ipython3",
   "version": "3.9.13"
  }
 },
 "nbformat": 4,
 "nbformat_minor": 5
}
